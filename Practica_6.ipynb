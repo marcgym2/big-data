{
  "cells": [
    {
      "cell_type": "markdown",
      "metadata": {
        "id": "view-in-github",
        "colab_type": "text"
      },
      "source": [
        "<a href=\"https://colab.research.google.com/github/marcgym2/big-data/blob/main/Practica_6.ipynb\" target=\"_parent\"><img src=\"https://colab.research.google.com/assets/colab-badge.svg\" alt=\"Open In Colab\"/></a>"
      ]
    },
    {
      "cell_type": "markdown",
      "metadata": {
        "id": "NLzBP9aeSvfQ"
      },
      "source": [
        "<a href=\"https://colab.research.google.com/github/https-deeplearning-ai/tensorflow-1-public/blob/main/C4/W1/ungraded_labs/C4_W1_Lab_1_time_series.ipynb\" target=\"_parent\"><img src=\"https://colab.research.google.com/assets/colab-badge.svg\" alt=\"Open In Colab\"/></a>"
      ]
    },
    {
      "cell_type": "markdown",
      "source": [
        "## Practica 6: Análisis de Series de tiempo"
      ],
      "metadata": {
        "id": "eLUotBCpaTc-"
      }
    },
    {
      "cell_type": "code",
      "execution_count": null,
      "metadata": {
        "id": "gqWabzlJ63nL"
      },
      "outputs": [],
      "source": [
        "import matplotlib.pyplot as plt\n",
        "import numpy as np"
      ]
    },
    {
      "cell_type": "code",
      "execution_count": null,
      "metadata": {
        "id": "sJwA96JU00pW"
      },
      "outputs": [],
      "source": [
        "def plot_series(time, series, format=\"-\", start=0, end=None, label=None):\n",
        "\n",
        "    plt.figure(figsize=(10, 6))\n",
        "    plt.plot(time[start:end], series[start:end], format)\n",
        "    plt.xlabel(\"Time\")\n",
        "    plt.ylabel(\"Value\")\n",
        "\n",
        "    if label:\n",
        "      plt.legend(fontsize=14, labels=label)\n",
        "\n",
        "    plt.grid(True)\n",
        "    plt.show()"
      ]
    },
    {
      "cell_type": "markdown",
      "metadata": {
        "id": "yVo6CcpRaW7u"
      },
      "source": [
        "## Trend\n",
        "\n",
        "*trend* o tendencia se refiere a la dirección general de los valores a lo largo del tiempo, ya sea ascendente/positiva, descendente/negativa o plana; se puede visualizar como una línea recta en datos que siguen la forma de la pendiente-intercepto, con la intersección en y siendo 0 y determinando la tendencia."
      ]
    },
    {
      "cell_type": "code",
      "execution_count": null,
      "metadata": {
        "id": "t30Ts2KjiOIY"
      },
      "outputs": [],
      "source": [
        "def trend(time, slope=0):\n",
        "    \"\"\"\n",
        "    Args:\n",
        "      time (int) - contains the time steps\n",
        "      slope (float) - determines the direction and steepness of the line\n",
        "\n",
        "    \"\"\"\n",
        "    series = slope * time\n",
        "\n",
        "    return series"
      ]
    },
    {
      "cell_type": "markdown",
      "metadata": {
        "id": "iJjc3G1Maefn"
      },
      "source": [
        "Aquí hay una serie de tiempo que tiene una tendencia ascendente."
      ]
    },
    {
      "cell_type": "code",
      "execution_count": null,
      "metadata": {
        "id": "BLt-pLiZ0nfB"
      },
      "outputs": [],
      "source": [
        "# (365 days)\n",
        "time = np.arange(365)\n",
        "slope = 0.08\n",
        "\n",
        "series = trend(time, slope)\n",
        "\n",
        "plot_series(time, series, label=[f'slope={slope}'])"
      ]
    },
    {
      "cell_type": "markdown",
      "metadata": {
        "id": "WKD4nh9sauBf"
      },
      "source": [
        "## Seasonality\n",
        "\n",
        "La estacionalidad es otra característica que puedes buscar en una serie de tiempo. Se refiere a un patrón recurrente en intervalos de tiempo regulares. La estacionalidad puede observarse en el turismo. En destinos con atractivo de playa, la afluencia de turistas suele aumentar durante los meses de verano y disminuir en invierno. Esta tendencia regular puede predecir futuras visitas."
      ]
    },
    {
      "cell_type": "code",
      "execution_count": null,
      "metadata": {
        "id": "89gdEnPY1Niy"
      },
      "outputs": [],
      "source": [
        "def seasonal_pattern(season_time):\n",
        "    data_pattern = np.where(season_time < 0.4, np.cos(season_time * 2 * np.pi), 1 / np.exp(3 * season_time))\n",
        "    return data_pattern\n",
        "\n",
        "def seasonality(time, period, amplitude=1, phase=0):\n",
        "    season_time = ((time + phase) % period) / period\n",
        "    data_pattern = amplitude * seasonal_pattern(season_time)\n",
        "    return data_pattern"
      ]
    },
    {
      "cell_type": "markdown",
      "metadata": {
        "id": "IiM1tygZ-bRr"
      },
      "source": [
        "La celda de abajo muestra la estacionalidad de los datos generados, ya que se puede observar el patrón cada 365 pasos de tiempo."
      ]
    },
    {
      "cell_type": "code",
      "execution_count": null,
      "metadata": {
        "id": "7kaNezUk1S9l"
      },
      "outputs": [],
      "source": [
        "time = np.arange(4 * 365 + 1)\n",
        "period = 365\n",
        "amplitude = 100\n",
        "phase = 150  # Desplazar los valores en 100 timesteps\n",
        "series = seasonality(time, period=period, amplitude=amplitude, phase=phase)\n",
        "\n",
        "plot_series(time, series)"
      ]
    },
    {
      "cell_type": "markdown",
      "metadata": {
        "id": "-Vo433h0bDLD"
      },
      "source": [
        "Una serie de tiempo también puede contener tanto una tendencia como una estacionalidad. Por ejemplo, el número de turistas que visitan un destino puede fluctuar regularmente a lo largo del año, con un aumento en la temporada alta y una disminución en la temporada baja. Sin embargo, si se analizan los datos a lo largo de varios años, podría haber una tendencia ascendente que muestre un aumento gradual en el turismo año tras año."
      ]
    },
    {
      "cell_type": "code",
      "execution_count": null,
      "metadata": {
        "id": "AyqFdaIN1oy5"
      },
      "outputs": [],
      "source": [
        "# seasonal parameters\n",
        "slope = 0.05\n",
        "period = 365\n",
        "amplitude = 50\n",
        "\n",
        "\n",
        "series = trend(time, slope) + seasonality(time, period=period, amplitude=amplitude)\n",
        "\n",
        "# Plot the results\n",
        "plot_series(time, series)"
      ]
    },
    {
      "cell_type": "markdown",
      "metadata": {
        "id": "YVdJ2jNN8OHk"
      },
      "source": [
        "## Noise\n",
        "\n",
        "Por lo general, los datos tienen algo de ruido;"
      ]
    },
    {
      "cell_type": "code",
      "execution_count": null,
      "metadata": {
        "id": "3kD3_zjVscBH"
      },
      "outputs": [],
      "source": [
        "def noise(time, noise_level=1, seed=None):\n",
        "\n",
        "    rnd = np.random.RandomState(seed)\n",
        "\n",
        "    # Generar número aleatorio para cada paso de tiempo y escale según el nivel de ruido\n",
        "    noise = rnd.randn(len(time)) * noise_level\n",
        "\n",
        "    return noise\n"
      ]
    },
    {
      "cell_type": "code",
      "execution_count": null,
      "metadata": {
        "id": "aLvBwrKrtDzo"
      },
      "outputs": [],
      "source": [
        "noise_level = 6\n",
        "noise_signal = noise(time, noise_level=noise_level, seed=42)\n",
        "series += noise_signal\n",
        "plot_series(time, series)"
      ]
    }
  ],
  "metadata": {
    "colab": {
      "private_outputs": true,
      "provenance": [],
      "include_colab_link": true
    },
    "kernelspec": {
      "display_name": "Python 3",
      "language": "python",
      "name": "python3"
    },
    "language_info": {
      "codemirror_mode": {
        "name": "ipython",
        "version": 3
      },
      "file_extension": ".py",
      "mimetype": "text/x-python",
      "name": "python",
      "nbconvert_exporter": "python",
      "pygments_lexer": "ipython3",
      "version": "3.7.4"
    }
  },
  "nbformat": 4,
  "nbformat_minor": 0
}